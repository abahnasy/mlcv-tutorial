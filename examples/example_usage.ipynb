{
 "cells": [
  {
   "cell_type": "code",
   "execution_count": 1,
   "metadata": {
    "collapsed": true
   },
   "outputs": [],
   "source": [
    "# First write up / program your algorithm using the library tools\n",
    "# See examples/nearest_neighbors.py for a complete example (a k-nearest neighbors classifier)"
   ]
  },
  {
   "cell_type": "code",
   "execution_count": 2,
   "metadata": {
    "collapsed": true
   },
   "outputs": [],
   "source": [
    "# # To make use of your estimator, follow the following pipeline:\n",
    "# # 1. Read in a data set that is appropriate for your estimator's task\n",
    "from mlcv.datasets import fetcher\n",
    "\n",
    "# In this case we implemented a classification algorithm, \n",
    "# so we use a data set with categorical targets (classes)\n",
    "X, y = fetcher.load('iris')"
   ]
  },
  {
   "cell_type": "code",
   "execution_count": 3,
   "metadata": {},
   "outputs": [
    {
     "data": {
      "text/plain": [
       "array([[ 5.1,  3.5,  1.4,  0.2],\n",
       "       [ 4.9,  3. ,  1.4,  0.2],\n",
       "       [ 4.7,  3.2,  1.3,  0.2],\n",
       "       [ 4.6,  3.1,  1.5,  0.2],\n",
       "       [ 5. ,  3.6,  1.4,  0.2]])"
      ]
     },
     "execution_count": 3,
     "metadata": {},
     "output_type": "execute_result"
    }
   ],
   "source": [
    "# X are our data points and y are the targets (class labels)\n",
    "# Let's see how the first 5 points look like\n",
    "X[:5]"
   ]
  },
  {
   "cell_type": "code",
   "execution_count": 4,
   "metadata": {},
   "outputs": [
    {
     "data": {
      "text/plain": [
       "array([0, 0, 0, 0, 0])"
      ]
     },
     "execution_count": 4,
     "metadata": {},
     "output_type": "execute_result"
    }
   ],
   "source": [
    "# And the first 5 labels\n",
    "y[:5]"
   ]
  },
  {
   "cell_type": "code",
   "execution_count": 5,
   "metadata": {
    "collapsed": true
   },
   "outputs": [],
   "source": [
    "# It is a good idea to shuffle our data, so that our estimator does not just memorize the order of the targets\n",
    "# This would not happen for this particular algorithm (k-nearest neighbors), \n",
    "# but could happen for many other algorithms. "
   ]
  },
  {
   "cell_type": "code",
   "execution_count": 6,
   "metadata": {
    "collapsed": true
   },
   "outputs": [],
   "source": [
    "from sklearn.utils import shuffle\n",
    "\n",
    "# Now it is a good time to specify a seed for all operations that rely on random numbers.\n",
    "# You can use the same seed to reproduce the same random numbers (to repeat your experiments).\n",
    "seed = 42\n",
    "X, y = shuffle(X, y, random_state=seed)"
   ]
  },
  {
   "cell_type": "code",
   "execution_count": 7,
   "metadata": {},
   "outputs": [
    {
     "data": {
      "text/plain": [
       "array([1, 0, 2, 1, 1])"
      ]
     },
     "execution_count": 7,
     "metadata": {},
     "output_type": "execute_result"
    }
   ],
   "source": [
    "# Let's check the first 5 labels now\n",
    "y[:5]"
   ]
  },
  {
   "cell_type": "code",
   "execution_count": 8,
   "metadata": {},
   "outputs": [
    {
     "name": "stderr",
     "output_type": "stream",
     "text": [
      "/work/chiotell/projects/scikit-learn/sklearn/model_selection/_split.py:2026: FutureWarning: From version 0.21, test_size will always complement train_size unless both are specified.\n",
      "  FutureWarning)\n"
     ]
    }
   ],
   "source": [
    "# # 2. Train-Test split\n",
    "# Now split your data in a training set (to fit your model) and a testing set (to evaluate your model).\n",
    "from sklearn.model_selection import train_test_split\n",
    "\n",
    "# Here we use 70% of the data as training data and the rest for testing.\n",
    "# Look up what `stratify` does. Is it important?\n",
    "X_train, X_test, y_train, y_test = train_test_split(X, y, stratify=y, train_size=0.7, random_state=seed)"
   ]
  },
  {
   "cell_type": "code",
   "execution_count": 9,
   "metadata": {
    "collapsed": true
   },
   "outputs": [],
   "source": [
    "# # 3. Data pre-processing\n",
    "# You should consider what kind of pre-processing might be useful or crucial **for your estimator**.\n",
    "# For instance, you might want to make your data have zero mean (mean centering).\n",
    "# Or in a binary classification problem, you might want to make your targets be either -1 or 1.\n",
    "# Note that whatever pre-processing you perform on your training set, \n",
    "# the exact same pre-processing must be applied to your testing set too."
   ]
  },
  {
   "cell_type": "code",
   "execution_count": 10,
   "metadata": {},
   "outputs": [
    {
     "name": "stdout",
     "output_type": "stream",
     "text": [
      "KNNClassifier(k=3, metric='euclidean')\n"
     ]
    }
   ],
   "source": [
    "# # 4. Instantiate your model with the necessary parameters\n",
    "\n",
    "# Here you should import your own file(s) with your implementation(s).\n",
    "from nearest_neighbors import KNNClassifier\n",
    "\n",
    "# Pass any parameters you choose to your model's constructor\n",
    "knn = KNNClassifier(k=3)\n",
    "\n",
    "# See the model parameters (some might be set by default)\n",
    "print(knn)"
   ]
  },
  {
   "cell_type": "code",
   "execution_count": 11,
   "metadata": {},
   "outputs": [
    {
     "data": {
      "text/plain": [
       "KNNClassifier(k=3, metric='euclidean')"
      ]
     },
     "execution_count": 11,
     "metadata": {},
     "output_type": "execute_result"
    }
   ],
   "source": [
    "# # 5. Train your model (This is where the \"learning\" takes place.)\n",
    "knn.fit(X_train, y_train)"
   ]
  },
  {
   "cell_type": "code",
   "execution_count": 12,
   "metadata": {},
   "outputs": [
    {
     "name": "stdout",
     "output_type": "stream",
     "text": [
      "3-nearest neighbors test accuracy: 97.78%.\n"
     ]
    }
   ],
   "source": [
    "# # 6. Evaluate your model on the testing set\n",
    "# Predict with the trained model\n",
    "y_pred = knn.predict(X_test)\n",
    "\n",
    "# Compute a score based on the discrepancies between your model's predictions and the groundtruth.\n",
    "test_acc = knn.score(y_pred, y_test)\n",
    "print('3-nearest neighbors test accuracy: {:5.2f}%.'.format(test_acc*100))"
   ]
  },
  {
   "cell_type": "code",
   "execution_count": 13,
   "metadata": {},
   "outputs": [
    {
     "data": {
      "image/png": "[encoded data removed]",
      "text/plain": [
       "<matplotlib.figure.Figure at 0x7f7bde6baeb8>"
      ]
     },
     "metadata": {},
     "output_type": "display_data"
    }
   ],
   "source": [
    "# # 7. Possibly visualize something your model learned\n",
    "from matplotlib import pyplot as plt\n",
    "\n",
    "# Here we visualize the testing set. \n",
    "# Each testing sample gets colored according to its highest predicted class probability\n",
    "knn.visualize(X_test, proba=knn.predict_proba(X_test))\n",
    "\n",
    "# We may also want to see which points where misclassified\n",
    "mask_misclassified = y_pred != y_test\n",
    "X_misclassified = X_test[mask_misclassified]\n",
    "plt.scatter(X_misclassified[:, 0], X_misclassified[:, 1], s=120, facecolors='none', edgecolors='k')\n",
    "\n",
    "plt.show()"
   ]
  },
  {
   "cell_type": "code",
   "execution_count": null,
   "metadata": {
    "collapsed": true
   },
   "outputs": [],
   "source": []
  }
 ],
 "metadata": {
  "kernelspec": {
   "display_name": "Python [default]",
   "language": "python",
   "name": "python3"
  },
  "language_info": {
   "codemirror_mode": {
    "name": "ipython",
    "version": 3
   },
   "file_extension": ".py",
   "mimetype": "text/x-python",
   "name": "python",
   "nbconvert_exporter": "python",
   "pygments_lexer": "ipython3",
   "version": "3.6.1"
  }
 },
 "nbformat": 4,
 "nbformat_minor": 2
}
